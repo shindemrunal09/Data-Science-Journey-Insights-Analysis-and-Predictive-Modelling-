{
 "cells": [
  {
   "cell_type": "markdown",
   "id": "4c667bb7-1340-4f07-b92e-b1ee25c3eeb7",
   "metadata": {},
   "source": [
    "# Final Project for Data Science Methodology"
   ]
  },
  {
   "cell_type": "markdown",
   "id": "d978bdd0-28fe-47a8-8bea-a552b8ac1df4",
   "metadata": {},
   "source": [
    "## Introduction\n",
    "This notebook demonstrates key components of data science, including languages, libraries, and tools used in the field. It also provides examples of arithmetic expressions and basic code operations.\n"
   ]
  },
  {
   "cell_type": "markdown",
   "id": "029532e0-323f-436a-a8be-0470167e9624",
   "metadata": {},
   "source": [
    "## Data Science Languages\n",
    "Some of the popular languages used in data science are:\n",
    "- Python\n",
    "- R\n",
    "- SQL\n",
    "- Julia\n",
    "- Scala\n"
   ]
  },
  {
   "cell_type": "markdown",
   "id": "9a1bbd4e-3b46-45c6-99a9-c31ee65bf816",
   "metadata": {},
   "source": [
    "## Data Science Libraries\n",
    "Commonly used data science libraries include:\n",
    "- Pandas\n",
    "- NumPy\n",
    "- Matplotlib\n",
    "- TensorFlow\n",
    "- Scikit-learn\n"
   ]
  },
  {
   "cell_type": "markdown",
   "id": "12cee5b3-4b40-4b46-901c-ecad9c27fedb",
   "metadata": {},
   "source": [
    "## Data Science Tools\n",
    "| Tool           | Description                                  |\n",
    "|----------------|----------------------------------------------|\n",
    "| Jupyter Notebook | Interactive computing environment         |\n",
    "| RStudio        | Integrated development environment for R    |\n",
    "| Apache Spark   | Big data processing framework               |\n",
    "| Tableau        | Data visualization software                 |\n",
    "| GitHub         | Version control and collaboration platform  |\n"
   ]
  },
  {
   "cell_type": "markdown",
   "id": "bda590d8-10e0-4cc4-bd84-bfb56a58bedc",
   "metadata": {},
   "source": [
    "## Arithmetic Expressions\n",
    "Below are examples of arithmetic operations such as addition and multiplication in Python.\n"
   ]
  },
  {
   "cell_type": "code",
   "execution_count": 4,
   "id": "bc34434b-3cc9-4b2e-8f06-190cf62beb7e",
   "metadata": {},
   "outputs": [
    {
     "data": {
      "text/plain": [
       "70"
      ]
     },
     "execution_count": 4,
     "metadata": {},
     "output_type": "execute_result"
    }
   ],
   "source": [
    "# Example of multiplication and addition\n",
    "x = 10\n",
    "y = 5\n",
    "result = (x * y) + 20\n",
    "result\n"
   ]
  },
  {
   "cell_type": "code",
   "execution_count": 1,
   "id": "9f8a4ded-5c36-4d5f-989f-2e06be7ac738",
   "metadata": {},
   "outputs": [
    {
     "name": "stdout",
     "output_type": "stream",
     "text": [
      "120 minutes is equal to 2.0 hours.\n"
     ]
    }
   ],
   "source": [
    "# Function to convert minutes to hours\n",
    "def minutes_to_hours(minutes):\n",
    "    hours = minutes / 60\n",
    "    return hours\n",
    "\n",
    "# Example usage\n",
    "minutes = 120  # Change this value for other inputs\n",
    "hours = minutes_to_hours(minutes)\n",
    "print(f\"{minutes} minutes is equal to {hours} hours.\")\n"
   ]
  },
  {
   "cell_type": "markdown",
   "id": "3298aab6-8646-46c3-ba3a-2a3d951fa7f9",
   "metadata": {},
   "source": [
    "## Objectives\n",
    "- Learn about key data science languages.\n",
    "- Explore common data science libraries and tools.\n",
    "- Demonstrate simple arithmetic operations in Python.\n",
    "- Share the notebook via GitHub.\n"
   ]
  },
  {
   "cell_type": "markdown",
   "id": "e8220d31-b3f6-4396-b60f-390ea5dd3635",
   "metadata": {},
   "source": [
    "## Author\n",
    "Name: Shweta Wankhade\n"
   ]
  },
  {
   "cell_type": "markdown",
   "id": "73c4a985-9aa6-4fb5-a816-bdb883c06ca1",
   "metadata": {},
   "source": [
    "## GitHub Link\n",
    "You can view the notebook at: [GitHub Repository Link](URL)\n"
   ]
  },
  {
   "cell_type": "code",
   "execution_count": null,
   "id": "575305a1-680f-4d7f-a8b4-614a20655f3e",
   "metadata": {},
   "outputs": [],
   "source": []
  }
 ],
 "metadata": {
  "kernelspec": {
   "display_name": "Python 3 (ipykernel)",
   "language": "python",
   "name": "python3"
  },
  "language_info": {
   "codemirror_mode": {
    "name": "ipython",
    "version": 3
   },
   "file_extension": ".py",
   "mimetype": "text/x-python",
   "name": "python",
   "nbconvert_exporter": "python",
   "pygments_lexer": "ipython3",
   "version": "3.12.4"
  }
 },
 "nbformat": 4,
 "nbformat_minor": 5
}
