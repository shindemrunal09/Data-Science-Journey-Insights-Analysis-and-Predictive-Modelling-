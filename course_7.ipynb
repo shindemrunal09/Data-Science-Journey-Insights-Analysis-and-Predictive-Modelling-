{
 "cells": [
  {
   "cell_type": "code",
   "execution_count": 18,
   "id": "02c1a58a-ce69-4ce8-8532-9ed278c433fe",
   "metadata": {
    "scrolled": true
   },
   "outputs": [
    {
     "name": "stdout",
     "output_type": "stream",
     "text": [
      "Collecting scikit-learnNote: you may need to restart the kernel to use updated packages.\n",
      "\n",
      "  Downloading scikit_learn-1.5.2-cp312-cp312-win_amd64.whl.metadata (13 kB)\n",
      "Requirement already satisfied: numpy>=1.19.5 in c:\\users\\sw771\\appdata\\local\\programs\\python\\python312\\lib\\site-packages (from scikit-learn) (2.1.2)\n",
      "Collecting scipy>=1.6.0 (from scikit-learn)\n",
      "  Downloading scipy-1.14.1-cp312-cp312-win_amd64.whl.metadata (60 kB)\n",
      "     ---------------------------------------- 0.0/60.8 kB ? eta -:--:--\n",
      "     ---------------------------------------- 60.8/60.8 kB 1.6 MB/s eta 0:00:00\n",
      "Collecting joblib>=1.2.0 (from scikit-learn)\n",
      "  Downloading joblib-1.4.2-py3-none-any.whl.metadata (5.4 kB)\n",
      "Collecting threadpoolctl>=3.1.0 (from scikit-learn)\n",
      "  Downloading threadpoolctl-3.5.0-py3-none-any.whl.metadata (13 kB)\n",
      "Downloading scikit_learn-1.5.2-cp312-cp312-win_amd64.whl (11.0 MB)\n",
      "   ---------------------------------------- 0.0/11.0 MB ? eta -:--:--\n",
      "   - -------------------------------------- 0.3/11.0 MB 5.9 MB/s eta 0:00:02\n",
      "   -- ------------------------------------- 0.7/11.0 MB 7.8 MB/s eta 0:00:02\n",
      "   ---- ----------------------------------- 1.1/11.0 MB 7.9 MB/s eta 0:00:02\n",
      "   ----- ---------------------------------- 1.6/11.0 MB 8.6 MB/s eta 0:00:02\n",
      "   ------- -------------------------------- 2.2/11.0 MB 9.2 MB/s eta 0:00:01\n",
      "   --------- ------------------------------ 2.5/11.0 MB 9.0 MB/s eta 0:00:01\n",
      "   ----------- ---------------------------- 3.0/11.0 MB 9.2 MB/s eta 0:00:01\n",
      "   ------------- -------------------------- 3.6/11.0 MB 9.5 MB/s eta 0:00:01\n",
      "   --------------- ------------------------ 4.2/11.0 MB 9.9 MB/s eta 0:00:01\n",
      "   ---------------- ----------------------- 4.6/11.0 MB 9.9 MB/s eta 0:00:01\n",
      "   ------------------ --------------------- 5.2/11.0 MB 10.0 MB/s eta 0:00:01\n",
      "   --------------------- ------------------ 5.8/11.0 MB 10.3 MB/s eta 0:00:01\n",
      "   ----------------------- ---------------- 6.5/11.0 MB 10.4 MB/s eta 0:00:01\n",
      "   ------------------------- -------------- 7.0/11.0 MB 10.7 MB/s eta 0:00:01\n",
      "   ------------------------- -------------- 7.1/11.0 MB 10.5 MB/s eta 0:00:01\n",
      "   -------------------------- ------------- 7.4/11.0 MB 9.7 MB/s eta 0:00:01\n",
      "   ----------------------------- ---------- 8.2/11.0 MB 10.1 MB/s eta 0:00:01\n",
      "   ------------------------------- -------- 8.7/11.0 MB 10.3 MB/s eta 0:00:01\n",
      "   --------------------------------- ------ 9.3/11.0 MB 10.2 MB/s eta 0:00:01\n",
      "   ----------------------------------- ---- 9.8/11.0 MB 10.3 MB/s eta 0:00:01\n",
      "   ------------------------------------- -- 10.4/11.0 MB 10.6 MB/s eta 0:00:01\n",
      "   ---------------------------------------  11.0/11.0 MB 10.9 MB/s eta 0:00:01\n",
      "   ---------------------------------------  11.0/11.0 MB 10.9 MB/s eta 0:00:01\n",
      "   ---------------------------------------  11.0/11.0 MB 10.9 MB/s eta 0:00:01\n",
      "   ---------------------------------------- 11.0/11.0 MB 9.8 MB/s eta 0:00:00\n",
      "Downloading joblib-1.4.2-py3-none-any.whl (301 kB)\n",
      "   ---------------------------------------- 0.0/301.8 kB ? eta -:--:--\n",
      "   ---------------------------------------- 301.8/301.8 kB 9.4 MB/s eta 0:00:00\n",
      "Downloading scipy-1.14.1-cp312-cp312-win_amd64.whl (44.5 MB)\n",
      "   ---------------------------------------- 0.0/44.5 MB ? eta -:--:--\n",
      "   ---------------------------------------- 0.4/44.5 MB 10.9 MB/s eta 0:00:05\n",
      "    --------------------------------------- 0.7/44.5 MB 11.2 MB/s eta 0:00:04\n",
      "    --------------------------------------- 1.1/44.5 MB 8.4 MB/s eta 0:00:06\n",
      "   - -------------------------------------- 1.5/44.5 MB 8.4 MB/s eta 0:00:06\n",
      "   - -------------------------------------- 1.7/44.5 MB 7.6 MB/s eta 0:00:06\n",
      "   - -------------------------------------- 2.1/44.5 MB 8.0 MB/s eta 0:00:06\n",
      "   -- ------------------------------------- 2.5/44.5 MB 7.9 MB/s eta 0:00:06\n",
      "   -- ------------------------------------- 2.8/44.5 MB 7.8 MB/s eta 0:00:06\n",
      "   -- ------------------------------------- 3.3/44.5 MB 8.1 MB/s eta 0:00:06\n",
      "   --- ------------------------------------ 3.7/44.5 MB 8.1 MB/s eta 0:00:06\n",
      "   --- ------------------------------------ 4.0/44.5 MB 8.1 MB/s eta 0:00:06\n",
      "   ---- ----------------------------------- 4.6/44.5 MB 8.4 MB/s eta 0:00:05\n",
      "   ---- ----------------------------------- 4.6/44.5 MB 8.4 MB/s eta 0:00:05\n",
      "   ---- ----------------------------------- 4.6/44.5 MB 8.4 MB/s eta 0:00:05\n",
      "   ---- ----------------------------------- 4.6/44.5 MB 8.4 MB/s eta 0:00:05\n",
      "   ---- ----------------------------------- 4.6/44.5 MB 8.4 MB/s eta 0:00:05\n",
      "   ----- ---------------------------------- 5.7/44.5 MB 7.1 MB/s eta 0:00:06\n",
      "   ----- ---------------------------------- 6.4/44.5 MB 7.7 MB/s eta 0:00:05\n",
      "   ------ --------------------------------- 7.0/44.5 MB 7.8 MB/s eta 0:00:05\n",
      "   ------ --------------------------------- 7.6/44.5 MB 8.1 MB/s eta 0:00:05\n",
      "   ------- -------------------------------- 8.2/44.5 MB 8.3 MB/s eta 0:00:05\n",
      "   ------- -------------------------------- 8.7/44.5 MB 8.4 MB/s eta 0:00:05\n",
      "   ------- -------------------------------- 8.7/44.5 MB 8.4 MB/s eta 0:00:05\n",
      "   -------- ------------------------------- 9.4/44.5 MB 8.3 MB/s eta 0:00:05\n",
      "   --------- ------------------------------ 10.5/44.5 MB 8.8 MB/s eta 0:00:04\n",
      "   ---------- ----------------------------- 11.2/44.5 MB 9.4 MB/s eta 0:00:04\n",
      "   ---------- ----------------------------- 12.0/44.5 MB 9.8 MB/s eta 0:00:04\n",
      "   ----------- ---------------------------- 12.5/44.5 MB 10.1 MB/s eta 0:00:04\n",
      "   ----------- ---------------------------- 13.1/44.5 MB 10.4 MB/s eta 0:00:04\n",
      "   ------------ --------------------------- 13.8/44.5 MB 10.7 MB/s eta 0:00:03\n",
      "   ------------ --------------------------- 14.3/44.5 MB 10.7 MB/s eta 0:00:03\n",
      "   ------------- -------------------------- 14.9/44.5 MB 13.9 MB/s eta 0:00:03\n",
      "   ------------- -------------------------- 15.4/44.5 MB 13.1 MB/s eta 0:00:03\n",
      "   -------------- ------------------------- 16.2/44.5 MB 13.1 MB/s eta 0:00:03\n",
      "   -------------- ------------------------- 16.5/44.5 MB 12.6 MB/s eta 0:00:03\n",
      "   --------------- ------------------------ 17.2/44.5 MB 12.6 MB/s eta 0:00:03\n",
      "   --------------- ------------------------ 17.7/44.5 MB 12.4 MB/s eta 0:00:03\n",
      "   ---------------- ----------------------- 18.3/44.5 MB 12.4 MB/s eta 0:00:03\n",
      "   ----------------- ---------------------- 19.0/44.5 MB 13.9 MB/s eta 0:00:02\n",
      "   ----------------- ---------------------- 19.7/44.5 MB 13.6 MB/s eta 0:00:02\n",
      "   ------------------ --------------------- 20.3/44.5 MB 13.1 MB/s eta 0:00:02\n",
      "   ------------------ --------------------- 20.8/44.5 MB 13.1 MB/s eta 0:00:02\n",
      "   ------------------- -------------------- 21.2/44.5 MB 12.4 MB/s eta 0:00:02\n",
      "   ------------------- -------------------- 21.8/44.5 MB 12.6 MB/s eta 0:00:02\n",
      "   -------------------- ------------------- 22.6/44.5 MB 12.4 MB/s eta 0:00:02\n",
      "   -------------------- ------------------- 22.6/44.5 MB 12.4 MB/s eta 0:00:02\n",
      "   --------------------- ------------------ 23.8/44.5 MB 12.1 MB/s eta 0:00:02\n",
      "   --------------------- ------------------ 24.3/44.5 MB 12.1 MB/s eta 0:00:02\n",
      "   ---------------------- ----------------- 25.1/44.5 MB 12.3 MB/s eta 0:00:02\n",
      "   ---------------------- ----------------- 25.1/44.5 MB 12.4 MB/s eta 0:00:02\n",
      "   ---------------------- ----------------- 25.5/44.5 MB 11.7 MB/s eta 0:00:02\n",
      "   ----------------------- ---------------- 26.1/44.5 MB 11.7 MB/s eta 0:00:02\n",
      "   ----------------------- ---------------- 26.4/44.5 MB 11.3 MB/s eta 0:00:02\n",
      "   ------------------------ --------------- 26.8/44.5 MB 11.3 MB/s eta 0:00:02\n",
      "   ------------------------ --------------- 27.4/44.5 MB 10.9 MB/s eta 0:00:02\n",
      "   ------------------------ --------------- 27.7/44.5 MB 10.7 MB/s eta 0:00:02\n",
      "   ------------------------- -------------- 28.0/44.5 MB 10.9 MB/s eta 0:00:02\n",
      "   ------------------------- -------------- 28.4/44.5 MB 10.7 MB/s eta 0:00:02\n",
      "   ------------------------- -------------- 28.6/44.5 MB 10.2 MB/s eta 0:00:02\n",
      "   -------------------------- ------------- 29.2/44.5 MB 9.9 MB/s eta 0:00:02\n",
      "   -------------------------- ------------- 29.6/44.5 MB 10.1 MB/s eta 0:00:02\n",
      "   -------------------------- ------------- 29.6/44.5 MB 9.5 MB/s eta 0:00:02\n",
      "   --------------------------- ------------ 30.4/44.5 MB 9.4 MB/s eta 0:00:02\n",
      "   --------------------------- ------------ 30.9/44.5 MB 9.2 MB/s eta 0:00:02\n",
      "   ---------------------------- ----------- 31.6/44.5 MB 9.6 MB/s eta 0:00:02\n",
      "   ---------------------------- ----------- 32.3/44.5 MB 9.5 MB/s eta 0:00:02\n",
      "   ----------------------------- ---------- 32.8/44.5 MB 9.4 MB/s eta 0:00:02\n",
      "   ------------------------------ --------- 33.7/44.5 MB 9.8 MB/s eta 0:00:02\n",
      "   ------------------------------ --------- 34.2/44.5 MB 9.5 MB/s eta 0:00:02\n",
      "   ------------------------------- -------- 34.7/44.5 MB 9.5 MB/s eta 0:00:02\n",
      "   ------------------------------- -------- 35.2/44.5 MB 9.4 MB/s eta 0:00:01\n",
      "   -------------------------------- ------- 36.1/44.5 MB 10.1 MB/s eta 0:00:01\n",
      "   -------------------------------- ------- 36.6/44.5 MB 10.2 MB/s eta 0:00:01\n",
      "   --------------------------------- ------ 36.7/44.5 MB 10.1 MB/s eta 0:00:01\n",
      "   --------------------------------- ------ 37.3/44.5 MB 9.9 MB/s eta 0:00:01\n",
      "   --------------------------------- ------ 37.6/44.5 MB 10.2 MB/s eta 0:00:01\n",
      "   --------------------------------- ------ 37.6/44.5 MB 10.2 MB/s eta 0:00:01\n",
      "   ---------------------------------- ----- 38.4/44.5 MB 9.9 MB/s eta 0:00:01\n",
      "   ---------------------------------- ----- 38.6/44.5 MB 9.5 MB/s eta 0:00:01\n",
      "   ----------------------------------- ---- 39.2/44.5 MB 9.9 MB/s eta 0:00:01\n",
      "   ----------------------------------- ---- 39.4/44.5 MB 9.8 MB/s eta 0:00:01\n",
      "   ------------------------------------ --- 40.2/44.5 MB 10.1 MB/s eta 0:00:01\n",
      "   ------------------------------------ --- 40.3/44.5 MB 10.1 MB/s eta 0:00:01\n",
      "   ------------------------------------ --- 40.8/44.5 MB 9.9 MB/s eta 0:00:01\n",
      "   ------------------------------------- -- 41.2/44.5 MB 9.8 MB/s eta 0:00:01\n",
      "   ------------------------------------- -- 41.5/44.5 MB 9.5 MB/s eta 0:00:01\n",
      "   ------------------------------------- -- 41.7/44.5 MB 9.2 MB/s eta 0:00:01\n",
      "   ------------------------------------- -- 42.1/44.5 MB 9.2 MB/s eta 0:00:01\n",
      "   -------------------------------------- - 42.5/44.5 MB 9.0 MB/s eta 0:00:01\n",
      "   -------------------------------------- - 42.9/44.5 MB 8.8 MB/s eta 0:00:01\n",
      "   -------------------------------------- - 43.4/44.5 MB 8.6 MB/s eta 0:00:01\n",
      "   ---------------------------------------  43.6/44.5 MB 8.4 MB/s eta 0:00:01\n",
      "   ---------------------------------------  43.9/44.5 MB 8.2 MB/s eta 0:00:01\n",
      "   ---------------------------------------  44.3/44.5 MB 8.2 MB/s eta 0:00:01\n",
      "   ---------------------------------------  44.5/44.5 MB 8.1 MB/s eta 0:00:01\n",
      "   ---------------------------------------  44.5/44.5 MB 8.1 MB/s eta 0:00:01\n",
      "   ---------------------------------------  44.5/44.5 MB 8.1 MB/s eta 0:00:01\n",
      "   ---------------------------------------  44.5/44.5 MB 8.1 MB/s eta 0:00:01\n",
      "   ---------------------------------------- 44.5/44.5 MB 7.0 MB/s eta 0:00:00\n",
      "Downloading threadpoolctl-3.5.0-py3-none-any.whl (18 kB)\n",
      "Installing collected packages: threadpoolctl, scipy, joblib, scikit-learn\n",
      "Successfully installed joblib-1.4.2 scikit-learn-1.5.2 scipy-1.14.1 threadpoolctl-3.5.0\n"
     ]
    },
    {
     "name": "stderr",
     "output_type": "stream",
     "text": [
      "\n",
      "[notice] A new release of pip is available: 24.0 -> 24.2\n",
      "[notice] To update, run: python.exe -m pip install --upgrade pip\n"
     ]
    }
   ],
   "source": [
    "pip install scikit-learn"
   ]
  },
  {
   "cell_type": "code",
   "execution_count": 13,
   "id": "edd07715-5801-4102-b1be-d962db8313a6",
   "metadata": {
    "scrolled": true
   },
   "outputs": [
    {
     "name": "stdout",
     "output_type": "stream",
     "text": [
      "Collecting seabornNote: you may need to restart the kernel to use updated packages.\n"
     ]
    },
    {
     "name": "stderr",
     "output_type": "stream",
     "text": [
      "\n",
      "[notice] A new release of pip is available: 24.0 -> 24.2\n",
      "[notice] To update, run: python.exe -m pip install --upgrade pip\n"
     ]
    },
    {
     "name": "stdout",
     "output_type": "stream",
     "text": [
      "\n",
      "  Downloading seaborn-0.13.2-py3-none-any.whl.metadata (5.4 kB)\n",
      "Requirement already satisfied: numpy!=1.24.0,>=1.20 in c:\\users\\sw771\\appdata\\local\\programs\\python\\python312\\lib\\site-packages (from seaborn) (2.1.2)\n",
      "Requirement already satisfied: pandas>=1.2 in c:\\users\\sw771\\appdata\\local\\programs\\python\\python312\\lib\\site-packages (from seaborn) (2.2.3)\n",
      "Requirement already satisfied: matplotlib!=3.6.1,>=3.4 in c:\\users\\sw771\\appdata\\local\\programs\\python\\python312\\lib\\site-packages (from seaborn) (3.9.2)\n",
      "Requirement already satisfied: contourpy>=1.0.1 in c:\\users\\sw771\\appdata\\local\\programs\\python\\python312\\lib\\site-packages (from matplotlib!=3.6.1,>=3.4->seaborn) (1.3.0)\n",
      "Requirement already satisfied: cycler>=0.10 in c:\\users\\sw771\\appdata\\local\\programs\\python\\python312\\lib\\site-packages (from matplotlib!=3.6.1,>=3.4->seaborn) (0.12.1)\n",
      "Requirement already satisfied: fonttools>=4.22.0 in c:\\users\\sw771\\appdata\\local\\programs\\python\\python312\\lib\\site-packages (from matplotlib!=3.6.1,>=3.4->seaborn) (4.54.1)\n",
      "Requirement already satisfied: kiwisolver>=1.3.1 in c:\\users\\sw771\\appdata\\local\\programs\\python\\python312\\lib\\site-packages (from matplotlib!=3.6.1,>=3.4->seaborn) (1.4.7)\n",
      "Requirement already satisfied: packaging>=20.0 in c:\\users\\sw771\\appdata\\local\\programs\\python\\python312\\lib\\site-packages (from matplotlib!=3.6.1,>=3.4->seaborn) (24.1)\n",
      "Requirement already satisfied: pillow>=8 in c:\\users\\sw771\\appdata\\local\\programs\\python\\python312\\lib\\site-packages (from matplotlib!=3.6.1,>=3.4->seaborn) (10.4.0)\n",
      "Requirement already satisfied: pyparsing>=2.3.1 in c:\\users\\sw771\\appdata\\local\\programs\\python\\python312\\lib\\site-packages (from matplotlib!=3.6.1,>=3.4->seaborn) (3.2.0)\n",
      "Requirement already satisfied: python-dateutil>=2.7 in c:\\users\\sw771\\appdata\\local\\programs\\python\\python312\\lib\\site-packages (from matplotlib!=3.6.1,>=3.4->seaborn) (2.9.0.post0)\n",
      "Requirement already satisfied: pytz>=2020.1 in c:\\users\\sw771\\appdata\\local\\programs\\python\\python312\\lib\\site-packages (from pandas>=1.2->seaborn) (2024.2)\n",
      "Requirement already satisfied: tzdata>=2022.7 in c:\\users\\sw771\\appdata\\local\\programs\\python\\python312\\lib\\site-packages (from pandas>=1.2->seaborn) (2024.2)\n",
      "Requirement already satisfied: six>=1.5 in c:\\users\\sw771\\appdata\\local\\programs\\python\\python312\\lib\\site-packages (from python-dateutil>=2.7->matplotlib!=3.6.1,>=3.4->seaborn) (1.16.0)\n",
      "Downloading seaborn-0.13.2-py3-none-any.whl (294 kB)\n",
      "   ---------------------------------------- 0.0/294.9 kB ? eta -:--:--\n",
      "   ------------ --------------------------- 92.2/294.9 kB 2.6 MB/s eta 0:00:01\n",
      "   ------------ --------------------------- 92.2/294.9 kB 2.6 MB/s eta 0:00:01\n",
      "   -------------------------------------- - 286.7/294.9 kB 2.2 MB/s eta 0:00:01\n",
      "   -------------------------------------- - 286.7/294.9 kB 2.2 MB/s eta 0:00:01\n",
      "   ---------------------------------------- 294.9/294.9 kB 1.3 MB/s eta 0:00:00\n",
      "Installing collected packages: seaborn\n",
      "Successfully installed seaborn-0.13.2\n"
     ]
    }
   ],
   "source": [
    "pip install seaborn"
   ]
  },
  {
   "cell_type": "code",
   "execution_count": 6,
   "id": "6705b6b4-401d-46ab-a1f7-d37aa37f44f3",
   "metadata": {
    "scrolled": true
   },
   "outputs": [
    {
     "name": "stdout",
     "output_type": "stream",
     "text": [
      "Note: you may need to restart the kernel to use updated packages.Requirement already satisfied: pandas in c:\\users\\sw771\\appdata\\local\\programs\\python\\python312\\lib\\site-packages (2.2.3)\n",
      "Requirement already satisfied: numpy>=1.26.0 in c:\\users\\sw771\\appdata\\local\\programs\\python\\python312\\lib\\site-packages (from pandas) (2.1.2)\n",
      "Requirement already satisfied: python-dateutil>=2.8.2 in c:\\users\\sw771\\appdata\\local\\programs\\python\\python312\\lib\\site-packages (from pandas) (2.9.0.post0)\n",
      "Requirement already satisfied: pytz>=2020.1 in c:\\users\\sw771\\appdata\\local\\programs\\python\\python312\\lib\\site-packages (from pandas) (2024.2)\n",
      "Requirement already satisfied: tzdata>=2022.7 in c:\\users\\sw771\\appdata\\local\\programs\\python\\python312\\lib\\site-packages (from pandas) (2024.2)\n",
      "Requirement already satisfied: six>=1.5 in c:\\users\\sw771\\appdata\\local\\programs\\python\\python312\\lib\\site-packages (from python-dateutil>=2.8.2->pandas) (1.16.0)\n",
      "\n"
     ]
    },
    {
     "name": "stderr",
     "output_type": "stream",
     "text": [
      "\n",
      "[notice] A new release of pip is available: 24.0 -> 24.2\n",
      "[notice] To update, run: python.exe -m pip install --upgrade pip\n"
     ]
    }
   ],
   "source": [
    "pip install pandas"
   ]
  },
  {
   "cell_type": "code",
   "execution_count": 1,
   "id": "a8a7db77-4a9c-484f-8703-16329268b385",
   "metadata": {},
   "outputs": [
    {
     "name": "stdout",
     "output_type": "stream",
     "text": [
      "id                 int64\n",
      "date              object\n",
      "price            float64\n",
      "bedrooms           int64\n",
      "bathrooms        float64\n",
      "sqft_living        int64\n",
      "sqft_lot           int64\n",
      "floors           float64\n",
      "waterfront         int64\n",
      "view               int64\n",
      "condition          int64\n",
      "grade              int64\n",
      "sqft_above         int64\n",
      "sqft_basement      int64\n",
      "yr_built           int64\n",
      "yr_renovated       int64\n",
      "zipcode            int64\n",
      "lat              float64\n",
      "long             float64\n",
      "sqft_living15      int64\n",
      "sqft_lot15         int64\n",
      "dtype: object\n"
     ]
    }
   ],
   "source": [
    "# Import pandas\n",
    "import pandas as pd\n",
    "df = pd.read_csv('kc_house_data.csv')\n",
    "# Assuming your data is loaded into a DataFrame called 'df'\n",
    "print(df.dtypes)\n",
    "\n",
    "# Screenshot this output along with your code\n"
   ]
  },
  {
   "cell_type": "code",
   "execution_count": 11,
   "id": "d95d8bc7-c23c-43e4-b4a4-7bb9656f506a",
   "metadata": {},
   "outputs": [
    {
     "name": "stdout",
     "output_type": "stream",
     "text": [
      "              price      bedrooms     bathrooms   sqft_living      sqft_lot  \\\n",
      "count  2.161300e+04  21613.000000  21613.000000  21613.000000  2.161300e+04   \n",
      "mean   5.400881e+05      3.370842      2.114757   2079.899736  1.510697e+04   \n",
      "std    3.671272e+05      0.930062      0.770163    918.440897  4.142051e+04   \n",
      "min    7.500000e+04      0.000000      0.000000    290.000000  5.200000e+02   \n",
      "25%    3.219500e+05      3.000000      1.750000   1427.000000  5.040000e+03   \n",
      "50%    4.500000e+05      3.000000      2.250000   1910.000000  7.618000e+03   \n",
      "75%    6.450000e+05      4.000000      2.500000   2550.000000  1.068800e+04   \n",
      "max    7.700000e+06     33.000000      8.000000  13540.000000  1.651359e+06   \n",
      "\n",
      "             floors    waterfront          view     condition         grade  \\\n",
      "count  21613.000000  21613.000000  21613.000000  21613.000000  21613.000000   \n",
      "mean       1.494309      0.007542      0.234303      3.409430      7.656873   \n",
      "std        0.539989      0.086517      0.766318      0.650743      1.175459   \n",
      "min        1.000000      0.000000      0.000000      1.000000      1.000000   \n",
      "25%        1.000000      0.000000      0.000000      3.000000      7.000000   \n",
      "50%        1.500000      0.000000      0.000000      3.000000      7.000000   \n",
      "75%        2.000000      0.000000      0.000000      4.000000      8.000000   \n",
      "max        3.500000      1.000000      4.000000      5.000000     13.000000   \n",
      "\n",
      "         sqft_above  sqft_basement      yr_built  yr_renovated       zipcode  \\\n",
      "count  21613.000000   21613.000000  21613.000000  21613.000000  21613.000000   \n",
      "mean    1788.390691     291.509045   1971.005136     84.402258  98077.939805   \n",
      "std      828.090978     442.575043     29.373411    401.679240     53.505026   \n",
      "min      290.000000       0.000000   1900.000000      0.000000  98001.000000   \n",
      "25%     1190.000000       0.000000   1951.000000      0.000000  98033.000000   \n",
      "50%     1560.000000       0.000000   1975.000000      0.000000  98065.000000   \n",
      "75%     2210.000000     560.000000   1997.000000      0.000000  98118.000000   \n",
      "max     9410.000000    4820.000000   2015.000000   2015.000000  98199.000000   \n",
      "\n",
      "                lat          long  sqft_living15     sqft_lot15  \n",
      "count  21613.000000  21613.000000   21613.000000   21613.000000  \n",
      "mean      47.560053   -122.213896    1986.552492   12768.455652  \n",
      "std        0.138564      0.140828     685.391304   27304.179631  \n",
      "min       47.155900   -122.519000     399.000000     651.000000  \n",
      "25%       47.471000   -122.328000    1490.000000    5100.000000  \n",
      "50%       47.571800   -122.230000    1840.000000    7620.000000  \n",
      "75%       47.678000   -122.125000    2360.000000   10083.000000  \n",
      "max       47.777600   -121.315000    6210.000000  871200.000000  \n"
     ]
    }
   ],
   "source": [
    "# Import pandas\n",
    "import pandas as pd\n",
    "\n",
    "# Check if the columns 'id' and 'Unnamed: 0' exist before trying to drop them\n",
    "columns_to_drop = ['id', 'Unnamed: 0']\n",
    "columns_in_df = [col for col in columns_to_drop if col in df.columns]\n",
    "\n",
    "# Drop only the columns that exist\n",
    "if columns_in_df:\n",
    "    df.drop(columns_in_df, axis=1, inplace=True)\n",
    "\n",
    "# Get the statistical summary\n",
    "summary = df.describe()\n",
    "print(summary)\n",
    "\n"
   ]
  },
  {
   "cell_type": "code",
   "execution_count": 3,
   "id": "5f801489-e725-491e-91c2-2f15d0a89c63",
   "metadata": {},
   "outputs": [
    {
     "name": "stdout",
     "output_type": "stream",
     "text": [
      "        count\n",
      "floors       \n",
      "1.0     10680\n",
      "2.0      8241\n",
      "1.5      1910\n",
      "3.0       613\n",
      "2.5       161\n",
      "3.5         8\n"
     ]
    }
   ],
   "source": [
    "# Count unique values for the 'floors' column\n",
    "floor_counts = df['floors'].value_counts().to_frame()\n",
    "print(floor_counts)\n",
    "\n",
    "\n"
   ]
  },
  {
   "cell_type": "code",
   "execution_count": 14,
   "id": "aeed7640-cd7e-42e8-8641-e5cc202c86e5",
   "metadata": {},
   "outputs": [
    {
     "data": {
      "image/png": "[encoded data removed]",
      "text/plain": [
       "<Figure size 640x480 with 1 Axes>"
      ]
     },
     "metadata": {},
     "output_type": "display_data"
    }
   ],
   "source": [
    "# Import seaborn\n",
    "import seaborn as sns\n",
    "import matplotlib.pyplot as plt\n",
    "\n",
    "# Create a boxplot for price based on waterfront view\n",
    "sns.boxplot(x='waterfront', y='price', data=df)\n",
    "plt.title('Boxplot of Price vs Waterfront')\n",
    "plt.show()\n",
    "\n",
    "\n"
   ]
  },
  {
   "cell_type": "code",
   "execution_count": 15,
   "id": "6dc0b857-eba8-4324-9674-f526129a23c4",
   "metadata": {},
   "outputs": [
    {
     "data": {
      "image/png": "[encoded data removed]",
      "text/plain": [
       "<Figure size 640x480 with 1 Axes>"
      ]
     },
     "metadata": {},
     "output_type": "display_data"
    }
   ],
   "source": [
    "# Create a regplot to check the correlation between 'sqft_above' and 'price'\n",
    "sns.regplot(x='sqft_above', y='price', data=df)\n",
    "plt.title('Price vs Sqft_above')\n",
    "plt.show()\n",
    "\n",
    "\n"
   ]
  },
  {
   "cell_type": "code",
   "execution_count": 19,
   "id": "696c192a-ea5f-428b-b67a-5c154ef5b422",
   "metadata": {},
   "outputs": [
    {
     "name": "stdout",
     "output_type": "stream",
     "text": [
      "R^2: 0.4928532179037931\n"
     ]
    }
   ],
   "source": [
    "# Import linear regression\n",
    "from sklearn.linear_model import LinearRegression\n",
    "\n",
    "# Create the linear regression model\n",
    "lm = LinearRegression()\n",
    "\n",
    "# Fit the model with 'sqft_living' and 'price'\n",
    "X = df[['sqft_living']]\n",
    "y = df['price']\n",
    "lm.fit(X, y)\n",
    "\n",
    "# Calculate R^2\n",
    "r_squared = lm.score(X, y)\n",
    "print(f'R^2: {r_squared}')\n",
    "\n",
    "\n"
   ]
  },
  {
   "cell_type": "code",
   "execution_count": 20,
   "id": "4618af83-b6f8-4a3c-bb10-3095f9dc25bd",
   "metadata": {},
   "outputs": [
    {
     "name": "stdout",
     "output_type": "stream",
     "text": [
      "R^2: 0.6577151058279324\n"
     ]
    }
   ],
   "source": [
    "# List of features for the model\n",
    "features = ['floors', 'waterfront', 'lat', 'bedrooms', 'sqft_basement', 'view', 'bathrooms', \n",
    "            'sqft_living15', 'sqft_above', 'grade', 'sqft_living']\n",
    "\n",
    "# Fit the model with these features\n",
    "X_multi = df[features]\n",
    "lm.fit(X_multi, y)\n",
    "\n",
    "# Calculate R^2\n",
    "r_squared_multi = lm.score(X_multi, y)\n",
    "print(f'R^2: {r_squared_multi}')\n",
    "\n",
    "\n"
   ]
  },
  {
   "cell_type": "code",
   "execution_count": 21,
   "id": "fe32e6df-8b16-434a-8657-10243f0553c6",
   "metadata": {},
   "outputs": [
    {
     "name": "stdout",
     "output_type": "stream",
     "text": [
      "R^2: 0.750723145584162\n"
     ]
    }
   ],
   "source": [
    "# Import necessary libraries\n",
    "from sklearn.preprocessing import PolynomialFeatures\n",
    "from sklearn.pipeline import Pipeline\n",
    "from sklearn.preprocessing import StandardScaler\n",
    "\n",
    "# Create a pipeline with scaling, polynomial transformation, and linear regression\n",
    "pipeline = Pipeline([\n",
    "    ('scale', StandardScaler()),\n",
    "    ('poly', PolynomialFeatures(degree=2)),\n",
    "    ('model', LinearRegression())\n",
    "])\n",
    "\n",
    "# Fit the pipeline\n",
    "pipeline.fit(X_multi, y)\n",
    "\n",
    "# Calculate R^2\n",
    "r_squared_pipeline = pipeline.score(X_multi, y)\n",
    "print(f'R^2: {r_squared_pipeline}')\n",
    "\n"
   ]
  },
  {
   "cell_type": "code",
   "execution_count": 22,
   "id": "77572038-4774-4977-b5c9-45a938ab027f",
   "metadata": {},
   "outputs": [
    {
     "name": "stdout",
     "output_type": "stream",
     "text": [
      "R^2 (Ridge): 0.651600842183649\n"
     ]
    }
   ],
   "source": [
    "# Import Ridge regression\n",
    "from sklearn.linear_model import Ridge\n",
    "from sklearn.model_selection import train_test_split\n",
    "\n",
    "# Split the data into training and testing sets\n",
    "X_train, X_test, y_train, y_test = train_test_split(X_multi, y, test_size=0.2, random_state=0)\n",
    "\n",
    "# Create and fit the Ridge regression model\n",
    "ridge_model = Ridge(alpha=0.1)\n",
    "ridge_model.fit(X_train, y_train)\n",
    "\n",
    "# Calculate R^2 using the test data\n",
    "r_squared_ridge = ridge_model.score(X_test, y_test)\n",
    "print(f'R^2 (Ridge): {r_squared_ridge}')\n",
    "\n",
    "\n"
   ]
  },
  {
   "cell_type": "code",
   "execution_count": 23,
   "id": "5304f9ca-cfff-4ad1-9ea5-cc77cf383df9",
   "metadata": {},
   "outputs": [
    {
     "name": "stdout",
     "output_type": "stream",
     "text": [
      "R^2 (Polynomial Ridge): 0.7157016558325879\n"
     ]
    }
   ],
   "source": [
    "# Perform polynomial transform on both training and test data\n",
    "poly = PolynomialFeatures(degree=2)\n",
    "X_train_poly = poly.fit_transform(X_train)\n",
    "X_test_poly = poly.transform(X_test)\n",
    "\n",
    "# Fit Ridge regression on the polynomial-transformed data\n",
    "ridge_model_poly = Ridge(alpha=0.1)\n",
    "ridge_model_poly.fit(X_train_poly, y_train)\n",
    "\n",
    "# Calculate R^2 using the test data\n",
    "r_squared_ridge_poly = ridge_model_poly.score(X_test_poly, y_test)\n",
    "print(f'R^2 (Polynomial Ridge): {r_squared_ridge_poly}')\n",
    "\n",
    "\n"
   ]
  },
  {
   "cell_type": "code",
   "execution_count": null,
   "id": "778b6911-b065-423b-a87f-af568a1584af",
   "metadata": {},
   "outputs": [],
   "source": []
  },
  {
   "cell_type": "code",
   "execution_count": null,
   "id": "c4737ca2-5f0e-479a-91fe-10cfb7aa5689",
   "metadata": {},
   "outputs": [],
   "source": []
  },
  {
   "cell_type": "code",
   "execution_count": null,
   "id": "535276c0-eef7-4a18-9eab-51556009eb2e",
   "metadata": {},
   "outputs": [],
   "source": []
  },
  {
   "cell_type": "code",
   "execution_count": null,
   "id": "af191723-06d2-487b-b8cc-d9ec37c24138",
   "metadata": {},
   "outputs": [],
   "source": []
  },
  {
   "cell_type": "code",
   "execution_count": null,
   "id": "84e39d50-077a-48bc-a08c-ccf3c6f930a1",
   "metadata": {},
   "outputs": [],
   "source": []
  },
  {
   "cell_type": "code",
   "execution_count": null,
   "id": "4165f707-3dbc-46a5-be6a-449550b3ec80",
   "metadata": {},
   "outputs": [],
   "source": []
  }
 ],
 "metadata": {
  "kernelspec": {
   "display_name": "Python 3 (ipykernel)",
   "language": "python",
   "name": "python3"
  },
  "language_info": {
   "codemirror_mode": {
    "name": "ipython",
    "version": 3
   },
   "file_extension": ".py",
   "mimetype": "text/x-python",
   "name": "python",
   "nbconvert_exporter": "python",
   "pygments_lexer": "ipython3",
   "version": "3.12.4"
  }
 },
 "nbformat": 4,
 "nbformat_minor": 5
}
